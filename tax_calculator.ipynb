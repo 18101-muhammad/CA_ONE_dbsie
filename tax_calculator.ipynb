{
 "cells": [
  {
   "cell_type": "markdown",
   "id": "d560b1ba",
   "metadata": {},
   "source": [
    "## Tax calculator"
   ]
  },
  {
   "cell_type": "code",
   "execution_count": 2,
   "id": "ecd90a3b",
   "metadata": {},
   "outputs": [],
   "source": [
    "#Employee class\n",
    "class Employee:\n",
    "    #constructor of employee class\n",
    "    def __init__(self, StaffID, LastName, FirstName, RegHours, HourlyRate, OTMultiple, TaxCredit, StandardBand):\n",
    "        self.StaffID = StaffID\n",
    "        self.LastName = LastName\n",
    "        self.FirstName = FirstName\n",
    "        self.RegHours = RegHours\n",
    "        self.HourlyRate = HourlyRate\n",
    "        self.OTMultiple = OTMultiple\n",
    "        self.TaxCredit = TaxCredit\n",
    "        self.StandardBand = StandardBand\n",
    "        \n",
    "    #Compute payment takes hours worked and date and returns the json\n",
    "    def computePayment(self, HoursWorked, date):\n",
    "        o = {}\n",
    "        o['Hours Worked'] = HoursWorked\n",
    "        o['Regular Hours Worked'] = self.RegHours\n",
    "        o['Regular Rate'] = self.HourlyRate\n",
    "        OTMultiple = self.OTMultiple\n",
    "        o['Tax Credit'] = self.TaxCredit\n",
    "        StandardBand = self.StandardBand\n",
    "        o['Date'] = date\n",
    "        o['Name'] = self.FirstName + ' ' + self.LastName\n",
    "        o['Regular Pay'] = o['Regular Rate'] * o['Regular Hours Worked']\n",
    "        # Regular Hours Worked cannot exceed hours worked\n",
    "        if (o['Hours Worked'] > o['Regular Hours Worked']):\n",
    "            o['Overtime Hours Worked'] = o['Hours Worked'] - o['Regular Hours Worked']\n",
    "        else:\n",
    "            o['Overtime Hours Worked'] = 0\n",
    "        o['OverTime Rate'] = int(o['Regular Rate'] * OTMultiple)\n",
    "        # Overtime pay or overtime hours cannot be negative.\n",
    "        o['OverTime Pay'] = o['Overtime Hours Worked'] * o['OverTime Rate']\n",
    "        o['Gross Pay'] = o['Regular Pay'] + o['OverTime Pay']\n",
    "        o['Standard Rate Pay'] = StandardBand\n",
    "        if (o['Gross Pay'] > o['Standard Rate Pay']):\n",
    "            o['Higher Rate Pay'] = o['Gross Pay'] - o['Standard Rate Pay']\n",
    "        else:\n",
    "            o['Higher Rate Pay'] = 0\n",
    "        o['Standard Tax'] = int(o['Standard Rate Pay'] * 0.2)\n",
    "        # Higher Tax cannot be negative.\n",
    "        o['Higher Tax'] = round(o['Higher Rate Pay'] * 0.4, 2)\n",
    "        o['Total Tax'] = round(o['Standard Tax'] + o['Higher Tax'], 2)\n",
    "        o['Net Deduction'] = round(o['Total Tax'] - o['Tax Credit'], 2)\n",
    "        # Net Pay cannot be negative.\n",
    "        o['Net Pay'] = round(o['Gross Pay'] - o['Net Deduction'], 2)\n",
    "        return o\n",
    "    \n",
    "    #static method to perform bulk operation\n",
    "    @staticmethod\n",
    "    def bulk_tax_compute(employeeFile, hourFile):\n",
    "        employdata = {}\n",
    "        result = []\n",
    "        try:\n",
    "            #read employee file\n",
    "            with open(employeeFile) as newFile:\n",
    "                for line in newFile:\n",
    "                    StaffID, LastName, FirstName, RegHours, HourlyRate, OTMultiple, TaxCredit, StandardBand = line.split()\n",
    "                    employdata[StaffID] = Employee(StaffID, LastName, FirstName, int(RegHours), int(HourlyRate),\n",
    "                                                   float(OTMultiple),\n",
    "                                                   int(TaxCredit), int(StandardBand))\n",
    "            #read hour file\n",
    "            with open(hourFile) as hoursFile:\n",
    "                for line in hoursFile:\n",
    "                    StaffID, date, HoursWorked = line.split()\n",
    "                    if StaffID in employdata:\n",
    "                        result.append(employdata[StaffID].computePayment(int(HoursWorked), date))\n",
    "        except Exception as ex:\n",
    "            print(ex)\n",
    "            raise Exception(\"Invalid Input file\")\n",
    "        return result"
   ]
  },
  {
   "cell_type": "markdown",
   "id": "c6fdb81d",
   "metadata": {},
   "source": [
    "### Testing output"
   ]
  },
  {
   "cell_type": "code",
   "execution_count": 3,
   "id": "4134cdcb",
   "metadata": {
    "scrolled": true
   },
   "outputs": [
    {
     "name": "stdout",
     "output_type": "stream",
     "text": [
      "=================Single operation==========================\n",
      "{'Hours Worked': 42, 'Regular Hours Worked': 37, 'Regular Rate': 16, 'Tax Credit': 70, 'Date': '11/11/21', 'Name': 'Neil Smith', 'Regular Pay': 592, 'Overtime Hours Worked': 5, 'OverTime Rate': 24, 'OverTime Pay': 120, 'Gross Pay': 712, 'Standard Rate Pay': 700, 'Higher Rate Pay': 12, 'Standard Tax': 140, 'Higher Tax': 4.8, 'Total Tax': 144.8, 'Net Deduction': 74.8, 'Net Pay': 637.2}\n",
      "\n",
      "=================Bulk operation==========================\n",
      "[{'Hours Worked': 42, 'Regular Hours Worked': 37, 'Regular Rate': 16, 'Tax Credit': 70, 'Date': '31/10/2021', 'Name': 'Joe Green', 'Regular Pay': 592, 'Overtime Hours Worked': 5, 'OverTime Rate': 24, 'OverTime Pay': 120, 'Gross Pay': 712, 'Standard Rate Pay': 700, 'Higher Rate Pay': 12, 'Standard Tax': 140, 'Higher Tax': 4.8, 'Total Tax': 144.8, 'Net Deduction': 74.8, 'Net Pay': 637.2}, {'Hours Worked': 45, 'Regular Hours Worked': 40, 'Regular Rate': 18, 'Tax Credit': 70, 'Date': '31/10/2021', 'Name': 'Alan Roger', 'Regular Pay': 720, 'Overtime Hours Worked': 5, 'OverTime Rate': 27, 'OverTime Pay': 135, 'Gross Pay': 855, 'Standard Rate Pay': 700, 'Higher Rate Pay': 155, 'Standard Tax': 140, 'Higher Tax': 62.0, 'Total Tax': 202.0, 'Net Deduction': 132.0, 'Net Pay': 723.0}]\n"
     ]
    }
   ],
   "source": [
    "#testing output\n",
    "print(\"=================Single operation==========================\")\n",
    "employee = Employee(12345, 'Smith', 'Neil', 37, 16, 1.5, 70, 700)\n",
    "print(employee.computePayment(42, '11/11/21'))\n",
    "\n",
    "print()\n",
    "print(\"=================Bulk operation==========================\")\n",
    "\n",
    "try:\n",
    "    print(Employee.bulk_tax_compute('Employees.txt','Hours.txt'))\n",
    "except Exception as ex:\n",
    "    print(ex)"
   ]
  },
  {
   "cell_type": "markdown",
   "id": "ab21dc99",
   "metadata": {},
   "source": [
    "## Unit test case"
   ]
  },
  {
   "cell_type": "code",
   "execution_count": null,
   "id": "0b9a1f0c",
   "metadata": {},
   "outputs": [],
   "source": [
    "import unittest\n",
    "\n",
    "class TestTaxCalculator(unittest.TestCase):\n",
    "    \n",
    "    def test_hours_worked(self):\n",
    "        employee = Employee(12345, 'Smith', 'Neil', 37, 16, 1.5, 70, 700)\n",
    "        self.assertEqual(employee.computePayment(42, '11/11/21')['Hours Worked'], 42)\n",
    "        \n",
    "    def testNetLessEqualGross(self):\n",
    "        e=Employee(12345, 'Green', 'Joe', 37, 16, 1.5, 70, 700)\n",
    "        pi=e.computePayment(1,'31/10/2021')\n",
    "        self.assertLessEqual(pi['Net Pay'],pi['Gross Pay'])\n",
    "        \n",
    "    # Overtime pay or overtime hours cannot be negative.\n",
    "    def test_overtime_pay_cannot_be_negative(self):\n",
    "        employee = Employee(12345, 'Smith', 'Neil', 37, 16, 1.5, 70, 700)\n",
    "        self.assertGreater(employee.computePayment(42, '11/11/21')['OverTime Pay'], 0)\n",
    "        \n",
    "        employee1 = Employee(123513, 'Roger', 'Alan', 40, 18, 1.5, 70, 700)\n",
    "        self.assertGreater(employee1.computePayment(42, '11/11/21')['OverTime Pay'], 0)\n",
    "        \n",
    "    # Regular Hours Worked cannot exceed hours worked\n",
    "    def test_regular_hours_Worked_cannot_exceed_hours_worked(self):\n",
    "        employee = Employee(12345, 'Smith', 'Neil', 37, 16, 1.5, 70, 700)\n",
    "        result = employee.computePayment(42, '11/11/21')\n",
    "        self.assertLess(result['Regular Hours Worked'], result['Hours Worked'])\n",
    "        \n",
    "    \n",
    "    # Higher Tax cannot be negative.\n",
    "    def test_higher_tax_cannot_be_negative(self):\n",
    "        employee = Employee(12345, 'Smith', 'Neil', 37, 16, 1.5, 70, 700)\n",
    "        self.assertGreater(employee.computePayment(42, '11/11/21')['Higher Tax'], 0)\n",
    "        \n",
    "        employee1 = Employee(123513, 'Roger', 'Alan', 40, 18, 1.5, 70, 700)\n",
    "        self.assertGreater(employee1.computePayment(42, '11/11/21')['Higher Tax'], 0)\n",
    "        \n",
    "    \n",
    "    # Net Pay cannot be negative.\n",
    "    def test_net_pay_cannot_be_negative(self):\n",
    "        employee = Employee(12345, 'Smith', 'Neil', 37, 16, 1.5, 70, 700)\n",
    "        self.assertGreater(employee.computePayment(42, '11/11/21')['Net Pay'], 0)\n",
    "        \n",
    "        employee1 = Employee(123513, 'Roger', 'Alan', 40, 18, 1.5, 70, 700)\n",
    "        self.assertGreater(employee1.computePayment(42, '11/11/21')['Net Pay'], 0)\n",
    "        \n",
    "unittest.main(argv=[''], verbosity=2, exit=False)"
   ]
  }
 ],
 "metadata": {
  "kernelspec": {
   "display_name": "Python 3 (ipykernel)",
   "language": "python",
   "name": "python3"
  },
  "language_info": {
   "codemirror_mode": {
    "name": "ipython",
    "version": 3
   },
   "file_extension": ".py",
   "mimetype": "text/x-python",
   "name": "python",
   "nbconvert_exporter": "python",
   "pygments_lexer": "ipython3",
   "version": "3.9.5"
  }
 },
 "nbformat": 4,
 "nbformat_minor": 5
}
