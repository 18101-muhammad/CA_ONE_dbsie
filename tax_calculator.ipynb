{
 "cells": [
  {
   "cell_type": "markdown",
   "id": "38776e88",
   "metadata": {},
   "source": [
    "## Tax calculator"
   ]
  },
  {
   "cell_type": "code",
   "execution_count": null,
   "id": "a00104bd",
   "metadata": {},
   "outputs": [],
   "source": [
    "#Employee class\n",
    "class Employee:\n",
    "    #constructor of employee class\n",
    "    def __init__(self, StaffID, LastName, FirstName, RegHours, HourlyRate, OTMultiple, TaxCredit, StandardBand):\n",
    "        self.StaffID = StaffID\n",
    "        self.LastName = LastName\n",
    "        self.FirstName = FirstName\n",
    "        self.RegHours = RegHours\n",
    "        self.HourlyRate = HourlyRate\n",
    "        self.OTMultiple = OTMultiple\n",
    "        self.TaxCredit = TaxCredit\n",
    "        self.StandardBand = StandardBand\n",
    "        \n",
    "    #Compute payment takes hours worked and date and returns the json\n",
    "    def computePayment(self, HoursWorked, date):\n",
    "        o = {}\n",
    "        o['Hours Worked'] = HoursWorked\n",
    "        o['Regular Hours Worked'] = self.RegHours\n",
    "        o['Regular Rate'] = self.HourlyRate\n",
    "        OTMultiple = self.OTMultiple\n",
    "        o['Tax Credit'] = self.TaxCredit\n",
    "        StandardBand = self.StandardBand\n",
    "        o['Date'] = date\n",
    "        o['Name'] = self.FirstName + ' ' + self.LastName\n",
    "        o['Regular Pay'] = o['Regular Rate'] * o['Regular Hours Worked']\n",
    "        # Regular Hours Worked cannot exceed hours worked\n",
    "        if (o['Hours Worked'] > o['Regular Hours Worked']):\n",
    "            o['Overtime Hours Worked'] = o['Hours Worked'] - o['Regular Hours Worked']\n",
    "        else:\n",
    "            o['Overtime Hours Worked'] = 0\n",
    "        o['OverTime Rate'] = int(o['Regular Rate'] * OTMultiple)\n",
    "        # Overtime pay or overtime hours cannot be negative.\n",
    "        o['OverTime Pay'] = o['Overtime Hours Worked'] * o['OverTime Rate']\n",
    "        o['Gross Pay'] = o['Regular Pay'] + o['OverTime Pay']\n",
    "        o['Standard Rate Pay'] = StandardBand\n",
    "        if (o['Gross Pay'] > o['Standard Rate Pay']):\n",
    "            o['Higher Rate Pay'] = o['Gross Pay'] - o['Standard Rate Pay']\n",
    "        else:\n",
    "            o['Higher Rate Pay'] = 0\n",
    "        o['Standard Tax'] = int(o['Standard Rate Pay'] * 0.2)\n",
    "        return o"
   ]
  }
 ],
 "metadata": {
  "kernelspec": {
   "display_name": "Python 3 (ipykernel)",
   "language": "python",
   "name": "python3"
  },
  "language_info": {
   "codemirror_mode": {
    "name": "ipython",
    "version": 3
   },
   "file_extension": ".py",
   "mimetype": "text/x-python",
   "name": "python",
   "nbconvert_exporter": "python",
   "pygments_lexer": "ipython3",
   "version": "3.9.5"
  }
 },
 "nbformat": 4,
 "nbformat_minor": 5
}
