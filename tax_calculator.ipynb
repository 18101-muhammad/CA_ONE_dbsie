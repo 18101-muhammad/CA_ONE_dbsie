{
 "cells": [
  {
   "cell_type": "markdown",
   "id": "094c9a7c",
   "metadata": {},
   "source": [
    "## Tax calculator"
   ]
  },
  {
   "cell_type": "code",
   "execution_count": null,
   "id": "3597fbb3",
   "metadata": {},
   "outputs": [],
   "source": [
    "#Employee class\n",
    "class Employee:\n",
    "    #constructor of employee class\n",
    "    def __init__(self, StaffID, LastName, FirstName, RegHours, HourlyRate, OTMultiple, TaxCredit, StandardBand):\n",
    "        self.StaffID = StaffID\n",
    "        self.LastName = LastName\n",
    "        self.FirstName = FirstName\n",
    "        self.RegHours = RegHours\n",
    "        self.HourlyRate = HourlyRate\n",
    "        self.OTMultiple = OTMultiple\n",
    "        self.TaxCredit = TaxCredit\n",
    "        self.StandardBand = StandardBand"
   ]
  }
 ],
 "metadata": {
  "kernelspec": {
   "display_name": "Python 3 (ipykernel)",
   "language": "python",
   "name": "python3"
  },
  "language_info": {
   "codemirror_mode": {
    "name": "ipython",
    "version": 3
   },
   "file_extension": ".py",
   "mimetype": "text/x-python",
   "name": "python",
   "nbconvert_exporter": "python",
   "pygments_lexer": "ipython3",
   "version": "3.9.5"
  }
 },
 "nbformat": 4,
 "nbformat_minor": 5
}
